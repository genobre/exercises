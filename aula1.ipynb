{
 "cells": [
  {
   "cell_type": "markdown",
   "metadata": {},
   "source": [
    "# Numpy"
   ]
  },
  {
   "cell_type": "code",
   "execution_count": 1,
   "metadata": {},
   "outputs": [],
   "source": [
    "import numpy as np"
   ]
  },
  {
   "cell_type": "code",
   "execution_count": 2,
   "metadata": {},
   "outputs": [
    {
     "name": "stdout",
     "output_type": "stream",
     "text": [
      "<class 'list'>\n"
     ]
    }
   ],
   "source": [
    "idades = [10,20,30]\n",
    "print(type(idades))"
   ]
  },
  {
   "cell_type": "code",
   "execution_count": 3,
   "metadata": {},
   "outputs": [
    {
     "name": "stdout",
     "output_type": "stream",
     "text": [
      "<class 'numpy.ndarray'>\n"
     ]
    }
   ],
   "source": [
    "numpyIdades = np.array(idades)\n",
    "print(type(numpyIdades))"
   ]
  },
  {
   "cell_type": "markdown",
   "metadata": {},
   "source": [
    "## Multiplicação de Arrays"
   ]
  },
  {
   "cell_type": "code",
   "execution_count": 6,
   "metadata": {},
   "outputs": [
    {
     "name": "stdout",
     "output_type": "stream",
     "text": [
      "[2, 3, 4]\n",
      "[4, 6, 8]\n"
     ]
    }
   ],
   "source": [
    "a = [2,3,4]\n",
    "resultado = []\n",
    "\n",
    "# Manualmente\n",
    "for i in range(len(a)):\n",
    "    multiplicacao = 2*a[i]\n",
    "    resultado.append(multiplicacao)\n",
    "\n",
    "print(a)\n",
    "print(resultado)"
   ]
  },
  {
   "cell_type": "code",
   "execution_count": 7,
   "metadata": {},
   "outputs": [
    {
     "name": "stdout",
     "output_type": "stream",
     "text": [
      "[2 3 4]\n",
      "[4 6 8]\n"
     ]
    }
   ],
   "source": [
    "# Usando numpy\n",
    "np_a = np.array(a)\n",
    "np_resultado = np_a*2\n",
    "print(np_a)\n",
    "print(np_resultado)"
   ]
  },
  {
   "cell_type": "markdown",
   "metadata": {},
   "source": [
    "## Média e Soma"
   ]
  },
  {
   "cell_type": "code",
   "execution_count": 9,
   "metadata": {},
   "outputs": [],
   "source": [
    "anos = [\n",
    "    1985,\n",
    "    1990,\n",
    "    2000,\n",
    "    2005,\n",
    "    1970,\n",
    "    2015,\n",
    "    1951,\n",
    "    1988\n",
    "]\n",
    "\n",
    "anos = np.array(anos)"
   ]
  },
  {
   "cell_type": "code",
   "execution_count": 15,
   "metadata": {},
   "outputs": [
    {
     "name": "stdout",
     "output_type": "stream",
     "text": [
      "[1985 1990 2000 2005 1970 2015 1951 1988]\n",
      "[38 33 23 18 53  8 72 35]\n",
      "280\n",
      "35.0\n",
      "35.0\n",
      "35.0\n",
      "\n",
      "1\n"
     ]
    }
   ],
   "source": [
    "idades = 2023 - anos\n",
    "\n",
    "print(anos)\n",
    "print(idades)\n",
    "print(idades.sum())\n",
    "print(idades.sum()/len(idades))\n",
    "print(idades.sum()/idades.size)\n",
    "print(np.average(idades))\n",
    "\n",
    "print()\n",
    "\n",
    "print(idades.ndim)"
   ]
  },
  {
   "cell_type": "markdown",
   "metadata": {},
   "source": [
    "## Desempenho em Tempo"
   ]
  },
  {
   "cell_type": "code",
   "execution_count": 17,
   "metadata": {},
   "outputs": [
    {
     "name": "stdout",
     "output_type": "stream",
     "text": [
      "21.26464009284973\n",
      "0.050417184829711914\n"
     ]
    }
   ],
   "source": [
    "import time \n",
    "\n",
    "total = 10000\n",
    "inicio = time.time()\n",
    "lista_python = range(total)\n",
    "resultado_python = []\n",
    "\n",
    "for x in range(total):\n",
    "    resultado_python = []\n",
    "    for j in lista_python:\n",
    "        resultado_python.append(lista_python[j]*2)\n",
    "\n",
    "print(time.time()-inicio)\n",
    "\n",
    "inicio = time.time()\n",
    "lista_ndarray = np.arange(total)\n",
    "\n",
    "for x in range(total):\n",
    "    resultado_ndarray = []\n",
    "    resultado_ndarray = lista_ndarray*2\n",
    "\n",
    "print(time.time()-inicio)"
   ]
  },
  {
   "cell_type": "markdown",
   "metadata": {},
   "source": [
    "## Arrays de Mais de Uma Dimensão"
   ]
  },
  {
   "cell_type": "code",
   "execution_count": 25,
   "metadata": {},
   "outputs": [
    {
     "name": "stdout",
     "output_type": "stream",
     "text": [
      "[ 0  1  2  3  4  5  6  7  8  9 10 11]\n",
      "(12,)\n",
      "1\n",
      "2\n",
      "\n",
      "[[ 0  1  2  3]\n",
      " [ 4  5  6  7]\n",
      " [ 8  9 10 11]]\n",
      "(3, 4)\n",
      "2\n",
      "3\n",
      "\n",
      "[[[ 0  1]\n",
      "  [ 2  3]]\n",
      "\n",
      " [[ 4  5]\n",
      "  [ 6  7]]\n",
      "\n",
      " [[ 8  9]\n",
      "  [10 11]]]\n",
      "(3, 2, 2)\n",
      "3\n",
      "9\n"
     ]
    }
   ],
   "source": [
    "# array 1D\n",
    "a = np.arange(12)\n",
    "print(a)\n",
    "print(a.shape)\n",
    "print(a.ndim)\n",
    "print(a[2])\n",
    "print()\n",
    "\n",
    "# array 2D\n",
    "a = np.arange(12).reshape(3,4)\n",
    "print(a)\n",
    "print(a.shape)\n",
    "print(a.ndim)\n",
    "print(a[0][3])\n",
    "print()\n",
    "\n",
    "# array 3D\n",
    "a = np.arange(12).reshape(3,2,2)\n",
    "print(a)\n",
    "print(a.shape)\n",
    "print(a.ndim)\n",
    "print(a[2][0][1])"
   ]
  },
  {
   "cell_type": "code",
   "execution_count": 31,
   "metadata": {},
   "outputs": [
    {
     "name": "stdout",
     "output_type": "stream",
     "text": [
      "[10 40 15 12  4  2  5  7  8 20]\n",
      "[40 20]\n",
      "\n",
      "[[1 2 3]\n",
      " [4 5 6]]\n",
      "[3 4 5 6]\n",
      "1\n"
     ]
    }
   ],
   "source": [
    "a = np.array([10,40,15,12,4,2,5,7,8,20])\n",
    "print(a)\n",
    "print(a[a > 15])\n",
    "\n",
    "print()\n",
    "\n",
    "a = np.array([[1,2,3],[4,5,6]])\n",
    "print(a)\n",
    "print(a[a > 2])\n",
    "print(a[a > 2].ndim)"
   ]
  },
  {
   "cell_type": "code",
   "execution_count": 33,
   "metadata": {},
   "outputs": [
    {
     "name": "stdout",
     "output_type": "stream",
     "text": [
      "[[0. 0. 0. 0. 0.]\n",
      " [0. 0. 0. 0. 0.]\n",
      " [0. 0. 0. 0. 0.]\n",
      " [0. 0. 0. 0. 0.]]\n",
      "2\n"
     ]
    }
   ],
   "source": [
    "zeros = np.zeros((4,5))\n",
    "print(zeros)\n",
    "print(zeros.ndim)"
   ]
  },
  {
   "cell_type": "code",
   "execution_count": 34,
   "metadata": {},
   "outputs": [
    {
     "name": "stdout",
     "output_type": "stream",
     "text": [
      "[ 0  1  2  3  4  5  6  7  8  9 10 11 12 13 14 15 16 17 18 19 20 21 22 23\n",
      " 24 25 26 27 28 29 30 31 32 33 34 35 36 37 38 39 40 41 42 43 44 45 46 47\n",
      " 48 49]\n",
      "[10 11 12 13 14 15 16 17 18 19 20 21 22 23 24 25 26 27 28 29 30 31 32 33\n",
      " 34 35 36 37 38 39 40 41 42 43 44 45 46 47 48 49]\n",
      "[10 15 20 25 30 35 40 45]\n"
     ]
    }
   ],
   "source": [
    "print(np.arange(50))\n",
    "print(np.arange(10,50))\n",
    "print(np.arange(10,50,5))"
   ]
  },
  {
   "cell_type": "code",
   "execution_count": null,
   "metadata": {},
   "outputs": [],
   "source": []
  }
 ],
 "metadata": {
  "interpreter": {
   "hash": "caf1c2fcf97217de91eafa76b907d50f9ea378f5ffbee7f571142d119bb6a771"
  },
  "kernelspec": {
   "display_name": "Python 3.9.7 ('base')",
   "language": "python",
   "name": "python3"
  },
  "language_info": {
   "codemirror_mode": {
    "name": "ipython",
    "version": 3
   },
   "file_extension": ".py",
   "mimetype": "text/x-python",
   "name": "python",
   "nbconvert_exporter": "python",
   "pygments_lexer": "ipython3",
   "version": "3.9.7"
  },
  "orig_nbformat": 4
 },
 "nbformat": 4,
 "nbformat_minor": 2
}
